{
 "cells": [
  {
   "cell_type": "markdown",
   "metadata": {},
   "source": [
    "# Quantum Citation Walk Demo\n",
    "\n",
    "This notebook demonstrates quantum walk-based citation graph traversal with fallback to classical methods."
   ]
  },
  {
   "cell_type": "code",
   "execution_count": null,
   "metadata": {},
   "outputs": [],
   "source": [
    "import sys\n",
    "sys.path.append('../..')\n",
    "\n",
    "import numpy as np\n",
    "import matplotlib.pyplot as plt\n",
    "import networkx as nx\n",
    "\n",
    "from quantum_integration.synthetic_data_generator import SyntheticDataGenerator\n",
    "from quantum_integration.quantum_citation_walker import QuantumCitationWalker"
   ]
  },
  {
   "cell_type": "markdown",
   "metadata": {},
   "source": [
    "## 1. Load Synthetic Data"
   ]
  },
  {
   "cell_type": "code",
   "execution_count": null,
   "metadata": {},
   "outputs": [],
   "source": [
    "# Generate synthetic corpus\n",
    "generator = SyntheticDataGenerator(seed=42)\n",
    "corpus = generator.generate_synthetic_corpus(\n",
    "    language=\"en\",\n",
    "    size=20,\n",
    "    domain=\"quantum_computing\",\n",
    "    citation_density=0.15\n",
    ")\n",
    "\n",
    "print(f\"Generated corpus with {corpus.size} documents\")\n",
    "print(f\"Citation network: {len(corpus.citations)} citations\")\n",
    "print(f\"Adjacency matrix shape: {corpus.adjacency_matrix.shape}\")"
   ]
  },
  {
   "cell_type": "markdown",
   "metadata": {},
   "source": [
    "## 2. Visualize Citation Network"
   ]
  },
  {
   "cell_type": "code",
   "execution_count": null,
   "metadata": {},
   "outputs": [],
   "source": [
    "# Create NetworkX graph\n",
    "G = nx.DiGraph()\n",
    "G.add_nodes_from(range(corpus.size))\n",
    "G.add_edges_from(corpus.citations)\n",
    "\n",
    "# Visualize\n",
    "plt.figure(figsize=(12, 8))\n",
    "pos = nx.spring_layout(G, seed=42)\n",
    "nx.draw(G, pos, with_labels=True, node_color='lightblue', \n",
    "        node_size=500, arrowsize=20, font_size=10)\n",
    "plt.title(\"Citation Network\")\n",
    "plt.show()"
   ]
  },
  {
   "cell_type": "markdown",
   "metadata": {},
   "source": [
    "## 3. Run Quantum Walk"
   ]
  },
  {
   "cell_type": "code",
   "execution_count": null,
   "metadata": {},
   "outputs": [],
   "source": [
    "# Initialize quantum walker\n",
    "walker = QuantumCitationWalker(backend=\"qiskit_aer\", shots=1024)\n",
    "\n",
    "# Run quantum walk\n",
    "start_nodes = [0, 1, 2]  # Start from first 3 papers\n",
    "quantum_result = walker.traverse(\n",
    "    adjacency_matrix=corpus.adjacency_matrix,\n",
    "    semantic_weights=corpus.semantic_weights,\n",
    "    start_nodes=start_nodes,\n",
    "    max_steps=5\n",
    ")\n",
    "\n",
    "print(f\"\\nQuantum Walk Results:\")\n",
    "print(f\"Method: {quantum_result['method']}\")\n",
    "print(f\"Number of paths: {len(quantum_result['paths'])}\")\n",
    "print(f\"\\nTop 5 paths with relevance scores:\")\n",
    "for i, (path, score) in enumerate(zip(quantum_result['paths'][:5], \n",
    "                                       quantum_result['relevance_scores'][:5])):\n",
    "    print(f\"  {i+1}. Path: {path}, Score: {score:.4f}\")"
   ]
  },
  {
   "cell_type": "markdown",
   "metadata": {},
   "source": [
    "## 4. Run Classical Walk for Comparison"
   ]
  },
  {
   "cell_type": "code",
   "execution_count": null,
   "metadata": {},
   "outputs": [],
   "source": [
    "# Run classical walk\n",
    "classical_result = walker._classical_traverse(\n",
    "    adjacency_matrix=corpus.adjacency_matrix,\n",
    "    semantic_weights=corpus.semantic_weights,\n",
    "    start_nodes=start_nodes,\n",
    "    max_steps=5\n",
    ")\n",
    "\n",
    "print(f\"\\nClassical Walk Results:\")\n",
    "print(f\"Method: {classical_result['method']}\")\n",
    "print(f\"Number of paths: {len(classical_result['paths'])}\")\n",
    "print(f\"\\nTop 5 paths with relevance scores:\")\n",
    "for i, (path, score) in enumerate(zip(classical_result['paths'][:5], \n",
    "                                       classical_result['relevance_scores'][:5])):\n",
    "    print(f\"  {i+1}. Path: {path}, Score: {score:.4f}\")"
   ]
  },
  {
   "cell_type": "markdown",
   "metadata": {},
   "source": [
    "## 5. Compare Results"
   ]
  },
  {
   "cell_type": "code",
   "execution_count": null,
   "metadata": {},
   "outputs": [],
   "source": [
    "# Compare path diversity\n",
    "quantum_unique = len(set(tuple(p) for p in quantum_result['paths']))\n",
    "classical_unique = len(set(tuple(p) for p in classical_result['paths']))\n",
    "\n",
    "print(f\"\\nPath Diversity Comparison:\")\n",
    "print(f\"Quantum unique paths: {quantum_unique}\")\n",
    "print(f\"Classical unique paths: {classical_unique}\")\n",
    "\n",
    "# Compare average scores\n",
    "quantum_avg = np.mean(quantum_result['relevance_scores'])\n",
    "classical_avg = np.mean(classical_result['relevance_scores'])\n",
    "\n",
    "print(f\"\\nAverage Relevance Scores:\")\n",
    "print(f\"Quantum: {quantum_avg:.4f}\")\n",
    "print(f\"Classical: {classical_avg:.4f}\")\n",
    "\n",
    "# Visualize comparison\n",
    "fig, axes = plt.subplots(1, 2, figsize=(14, 5))\n",
    "\n",
    "axes[0].bar(['Quantum', 'Classical'], [quantum_unique, classical_unique])\n",
    "axes[0].set_ylabel('Unique Paths')\n",
    "axes[0].set_title('Path Diversity')\n",
    "\n",
    "axes[1].bar(['Quantum', 'Classical'], [quantum_avg, classical_avg])\n",
    "axes[1].set_ylabel('Average Score')\n",
    "axes[1].set_title('Relevance Scores')\n",
    "\n",
    "plt.tight_layout()\n",
    "plt.show()"
   ]
  },
  {
   "cell_type": "markdown",
   "metadata": {},
   "source": [
    "## 6. Entanglement Analysis (Quantum Only)"
   ]
  },
  {
   "cell_type": "code",
   "execution_count": null,
   "metadata": {},
   "outputs": [],
   "source": [
    "if 'entanglement_measure' in quantum_result:\n",
    "    print(f\"\\nQuantum Entanglement Measure: {quantum_result['entanglement_measure']:.4f}\")\n",
    "    print(\"Higher values indicate more quantum entanglement in the walk.\")\n",
    "else:\n",
    "    print(\"\\nEntanglement measure not available (classical fallback was used)\")"
   ]
  }
 ],
 "metadata": {
  "kernelspec": {
   "display_name": "Python 3",
   "language": "python",
   "name": "python3"
  },
  "language_info": {
   "codemirror_mode": {
    "name": "ipython",
    "version": 3
   },
   "file_extension": ".py",
   "mimetype": "text/x-python",
   "name": "python",
   "nbconvert_exporter": "python",
   "pygments_lexer": "ipython3",
   "version": "3.8.0"
  }
 },
 "nbformat": 4,
 "nbformat_minor": 4
}
