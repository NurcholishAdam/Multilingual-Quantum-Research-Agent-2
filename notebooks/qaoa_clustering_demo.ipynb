{
 "cells": [
  {
   "cell_type": "markdown",
   "metadata": {},
   "source": [
    "# QAOA Hypothesis Clustering Demo\n",
    "\n",
    "This notebook demonstrates QAOA-based hypothesis clustering with classical fallback."
   ]
  },
  {
   "cell_type": "code",
   "execution_count": null,
   "metadata": {},
   "outputs": [],
   "source": [
    "import sys\n",
    "sys.path.append('../..')\n",
    "\n",
    "import numpy as np\n",
    "import matplotlib.pyplot as plt\n",
    "from sklearn.decomposition import PCA\n",
    "\n",
    "from quantum_integration.multilingual_research_agent import Hypothesis, Language\n",
    "from quantum_integration.quantum_hypothesis_clusterer import QuantumHypothesisClusterer"
   ]
  },
  {
   "cell_type": "markdown",
   "metadata": {},
   "source": [
    "## 1. Generate Synthetic Hypotheses"
   ]
  },
  {
   "cell_type": "code",
   "execution_count": null,
   "metadata": {},
   "outputs": [],
   "source": [
    "# Generate synthetic hypothesis embeddings\n",
    "np.random.seed(42)\n",
    "n_hypotheses = 30\n",
    "embedding_dim = 128\n",
    "n_clusters_true = 3\n",
    "\n",
    "# Create clustered embeddings\n",
    "hypotheses = []\n",
    "for cluster_id in range(n_clusters_true):\n",
    "    center = np.random.randn(embedding_dim) * 5\n",
    "    for i in range(n_hypotheses // n_clusters_true):\n",
    "        embedding = center + np.random.randn(embedding_dim) * 0.5\n",
    "        hyp = Hypothesis(\n",
    "            text=f\"Hypothesis {len(hypotheses)}: Research finding in cluster {cluster_id}\",\n",
    "            language=Language.ENGLISH,\n",
    "            confidence=np.random.uniform(0.6, 0.95),\n",
    "            embedding=embedding\n",
    "        )\n",
    "        hypotheses.append(hyp)\n",
    "\n",
    "print(f\"Generated {len(hypotheses)} hypotheses with {n_clusters_true} true clusters\")"
   ]
  },
  {
   "cell_type": "markdown",
   "metadata": {},
   "source": [
    "## 2. Visualize Hypothesis Embeddings"
   ]
  },
  {
   "cell_type": "code",
   "execution_count": null,
   "metadata": {},
   "outputs": [],
   "source": [
    "# Reduce to 2D for visualization\n",
    "embeddings = np.array([h.embedding for h in hypotheses])\n",
    "pca = PCA(n_components=2)\n",
    "embeddings_2d = pca.fit_transform(embeddings)\n",
    "\n",
    "plt.figure(figsize=(10, 6))\n",
    "plt.scatter(embeddings_2d[:, 0], embeddings_2d[:, 1], alpha=0.6, s=100)\n",
    "plt.xlabel('PC1')\n",
    "plt.ylabel('PC2')\n",
    "plt.title('Hypothesis Embeddings (PCA)')\n",
    "plt.grid(True, alpha=0.3)\n",
    "plt.show()"
   ]
  },
  {
   "cell_type": "markdown",
   "metadata": {},
   "source": [
    "## 3. Run QAOA Clustering"
   ]
  },
  {
   "cell_type": "code",
   "execution_count": null,
   "metadata": {},
   "outputs": [],
   "source": [
    "# Initialize QAOA clusterer\n",
    "clusterer = QuantumHypothesisClusterer(\n",
    "    num_clusters=n_clusters_true,\n",
    "    qaoa_layers=2,\n",
    "    shots=512\n",
    ")\n",
    "\n",
    "# Run QAOA clustering\n",
    "qaoa_result = clusterer.cluster(embeddings)\n",
    "\n",
    "print(f\"\\nQAOA Clustering Results:\")\n",
    "print(f\"Method: {qaoa_result['method']}\")\n",
    "print(f\"Number of clusters: {qaoa_result['num_clusters']}\")\n",
    "print(f\"Clustering purity: {qaoa_result['purity']:.4f}\")"
   ]
  },
  {
   "cell_type": "markdown",
   "metadata": {},
   "source": [
    "## 4. Visualize QAOA Clusters"
   ]
  },
  {
   "cell_type": "code",
   "execution_count": null,
   "metadata": {},
   "outputs": [],
   "source": [
    "# Visualize QAOA clustering\n",
    "plt.figure(figsize=(10, 6))\n",
    "clusters = qaoa_result['cluster_assignments']\n",
    "scatter = plt.scatter(embeddings_2d[:, 0], embeddings_2d[:, 1], \n",
    "                     c=clusters, cmap='viridis', alpha=0.6, s=100)\n",
    "plt.colorbar(scatter, label='Cluster ID')\n",
    "plt.xlabel('PC1')\n",
    "plt.ylabel('PC2')\n",
    "plt.title(f'QAOA Clustering (Purity: {qaoa_result[\"purity\"]:.3f})')\n",
    "plt.grid(True, alpha=0.3)\n",
    "plt.show()"
   ]
  },
  {
   "cell_type": "markdown",
   "metadata": {},
   "source": [
    "## 5. Run Classical Clustering for Comparison"
   ]
  },
  {
   "cell_type": "code",
   "execution_count": null,
   "metadata": {},
   "outputs": [],
   "source": [
    "# Run classical k-means\n",
    "similarity_matrix = clusterer._compute_similarity_matrix(embeddings)\n",
    "classical_result = clusterer._classical_cluster(embeddings, similarity_matrix)\n",
    "\n",
    "print(f\"\\nClassical Clustering Results:\")\n",
    "print(f\"Method: {classical_result['method']}\")\n",
    "print(f\"Number of clusters: {classical_result['num_clusters']}\")\n",
    "print(f\"Clustering purity: {classical_result['purity']:.4f}\")"
   ]
  },
  {
   "cell_type": "markdown",
   "metadata": {},
   "source": [
    "## 6. Visualize Classical Clusters"
   ]
  },
  {
   "cell_type": "code",
   "execution_count": null,
   "metadata": {},
   "outputs": [],
   "source": [
    "# Visualize classical clustering\n",
    "plt.figure(figsize=(10, 6))\n",
    "clusters_classical = classical_result['cluster_assignments']\n",
    "scatter = plt.scatter(embeddings_2d[:, 0], embeddings_2d[:, 1], \n",
    "                     c=clusters_classical, cmap='viridis', alpha=0.6, s=100)\n",
    "plt.colorbar(scatter, label='Cluster ID')\n",
    "plt.xlabel('PC1')\n",
    "plt.ylabel('PC2')\n",
    "plt.title(f'Classical Clustering (Purity: {classical_result[\"purity\"]:.3f})')\n",
    "plt.grid(True, alpha=0.3)\n",
    "plt.show()"
   ]
  },
  {
   "cell_type": "markdown",
   "metadata": {},
   "source": [
    "## 7. Compare QAOA vs Classical"
   ]
  },
  {
   "cell_type": "code",
   "execution_count": null,
   "metadata": {},
   "outputs": [],
   "source": [
    "# Comparison\n",
    "print(f\"\\nComparison:\")\n",
    "print(f\"QAOA Purity: {qaoa_result['purity']:.4f}\")\n",
    "print(f\"Classical Purity: {classical_result['purity']:.4f}\")\n",
    "print(f\"Improvement: {(qaoa_result['purity'] - classical_result['purity']):.4f}\")\n",
    "\n",
    "# Bar chart\n",
    "plt.figure(figsize=(8, 5))\n",
    "methods = ['QAOA', 'Classical']\n",
    "purities = [qaoa_result['purity'], classical_result['purity']]\n",
    "plt.bar(methods, purities, color=['blue', 'orange'])\n",
    "plt.ylabel('Clustering Purity')\n",
    "plt.title('QAOA vs Classical Clustering')\n",
    "plt.ylim([0, 1])\n",
    "plt.grid(True, alpha=0.3, axis='y')\n",
    "plt.show()"
   ]
  }
 ],
 "metadata": {
  "kernelspec": {
   "display_name": "Python 3",
   "language": "python",
   "name": "python3"
  },
  "language_info": {
   "codemirror_mode": {
    "name": "ipython",
    "version": 3
   },
   "file_extension": ".py",
   "mimetype": "text/x-python",
   "name": "python",
   "nbconvert_exporter": "python",
   "pygments_lexer": "ipython3",
   "version": "3.8.0"
  }
 },
 "nbformat": 4,
 "nbformat_minor": 4
}
